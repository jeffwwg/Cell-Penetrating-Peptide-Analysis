{
 "cells": [
  {
   "cell_type": "code",
   "execution_count": null,
   "id": "f65c1356",
   "metadata": {},
   "outputs": [],
   "source": [
    "pip install statannotations"
   ]
  },
  {
   "cell_type": "code",
   "execution_count": null,
   "id": "470a714a",
   "metadata": {
    "scrolled": true
   },
   "outputs": [],
   "source": [
    "import pandas as pd\n",
    "import numpy as np\n",
    "import matplotlib.pyplot as plt\n",
    "import statsmodels.api as sm\n",
    "import seaborn as sns\n",
    "import scipy as sp\n",
    "import scikit_posthocs as sk\n",
    "import tkinter as tk\n",
    "from statsmodels.formula.api import ols\n",
    "from tkinter.filedialog import askopenfilename\n",
    "from statsmodels.formula.api import ols\n",
    "from bioinfokit.analys import stat\n",
    "from statannotations.Annotator import Annotator\n",
    "#from statannotations.Annotator import add_stat_annotation"
   ]
  },
  {
   "cell_type": "markdown",
   "id": "20549200",
   "metadata": {},
   "source": [
    "# Run this at the beginning before averaging repeats"
   ]
  },
  {
   "cell_type": "code",
   "execution_count": null,
   "id": "c6cd8eff",
   "metadata": {},
   "outputs": [],
   "source": [
    "#empty array of the experimental repeats\n",
    "percentRepeats = {}\n",
    "normalizedpercentRepeats = {}\n",
    "\n",
    "intensityRepeats = {}\n",
    "normalizedintensityRepeats = {}\n",
    "\n",
    "positiveintensityRepeats = {}\n",
    "normalizedpositiveintensityRepeats = {}\n",
    "\n",
    "normalizedintensityGmeanRepeats = {}\n",
    "intensityGmeanRepeats = {}\n",
    "\n",
    "normalizedintensityMeanRepeats = {}\n",
    "intensityMeanRepeats = {}"
   ]
  },
  {
   "cell_type": "code",
   "execution_count": null,
   "id": "9dfb0256",
   "metadata": {
    "scrolled": true
   },
   "outputs": [],
   "source": [
    "#opens file selection dialog\n",
    "filename = askopenfilename()\n",
    "dataOut = pd.read_csv(filename, keep_default_na=False)\n",
    "dataOut"
   ]
  },
  {
   "cell_type": "code",
   "execution_count": null,
   "id": "6d0cb816",
   "metadata": {
    "scrolled": true
   },
   "outputs": [],
   "source": [
    "#define the metadata tag that groups the data for an experimental run\n",
    "# metadataname ='Metadata_Treatment'\n",
    "# metadataname = 'Metadata_Concentration'\n",
    "metadataname = 'Metadata_Cotreatment'\n",
    "\n",
    "#counts the number of groups made based on the tag. make sure this matches expectation\n",
    "groups = dataOut[metadataname].value_counts(sort = False,dropna = False)\n",
    "uniqueorder= dataOut[metadataname].unique()\n",
    "\n",
    "print(groups)"
   ]
  },
  {
   "cell_type": "code",
   "execution_count": null,
   "id": "8b00f205",
   "metadata": {
    "scrolled": false
   },
   "outputs": [],
   "source": [
    "\n",
    "\n",
    "#Define the data to be plotted and the order for plotting\n",
    "# axorder = [0,10,20,50,100]\n",
    "# axorder = [0,100,300,500,1000]\n",
    "# axorder = ['DMSO', 'Chloroquine','Control']\n",
    "# axorder = ['Control', 'DMSO','Wortmannin','Ikarugamycin','Pyrenebutyrate','Chloroquine']\n",
    "# axorder = ['Control','GFP11','BP100GFP11','TATGFP11','R9GFP11']    \n",
    "# axorder = ['Control','DMSO','Chloroquine','NA','4C'] \n",
    "# axorder = ['Control','4Hattached','4HRechallenge','24Hattached']\n",
    "axorder = ['Control','NA','R9(1-1)','R9(3-1)'] \n",
    "# axorder = ['Control', 'GFP11WUSR9']\n",
    "# axorder = ['Control','NA','4C'] \n",
    "\n",
    "#set the theme\n",
    "sns.set_style(\"ticks\")\n",
    "#scatter plot\n",
    "ax = sns.catplot(x=metadataname, y='Math_Ratio',kind ='strip', order = axorder,s= 2, ci='sd',data=dataOut, palette = 'pastel')\n",
    "#define the y-axis\n",
    "ax.set(ylim=(0,1.1))\n",
    "#add the mean as a horizontal line\n",
    "ax2 = sns.boxplot(showmeans=True,\n",
    "            meanline=True,\n",
    "            meanprops={'color': 'k', 'ls': '-', 'lw': 1},\n",
    "            medianprops={'visible': False},\n",
    "            whiskerprops={'visible': False},\n",
    "            zorder=10,\n",
    "            x=metadataname,\n",
    "            y='Math_Ratio',\n",
    "            data=dataOut,\n",
    "            showfliers=False,\n",
    "            showbox=False,\n",
    "            showcaps=False,\n",
    "            order = axorder)\n",
    "\n",
    "\n",
    "#get info to prepare the title and filename\n",
    "date = str(dataOut['Metadata_Date'][1])\n",
    "projection = dataOut['Metadata_Projection'][1]\n",
    "\n",
    "Ngroups = groups\n",
    "Ngroups.index =Ngroups.index.map(str)\n",
    "\n",
    "\n",
    "\n",
    "sns.set(font_scale = 1)\n",
    "plt.xticks(rotation =45)\n",
    "savename = date +' Scatter' \n",
    "plt.title(savename)\n",
    "plt.ylabel('Green/Red Ratio', fontsize = 15)\n",
    "plt.xlabel('')\n",
    "\n",
    "#aesthetics \n",
    "sns.set_style(\"ticks\")\n",
    "ax2.spines['left'].set_linewidth(2)\n",
    "ax2.spines['bottom'].set_linewidth(2)\n",
    "ax2.xaxis.set_tick_params(width =2)\n",
    "ax2.yaxis.set_tick_params(width =2)\n",
    "plt.rcParams['figure.dpi'] = 420\n",
    "if metadataname == 'Metadata_Concentration':\n",
    "    plt.xlabel('[R9-GFP11] μM', fontsize = 15)\n",
    "\n"
   ]
  },
  {
   "cell_type": "code",
   "execution_count": null,
   "id": "cd80be16",
   "metadata": {
    "scrolled": true
   },
   "outputs": [],
   "source": [
    "#save the raw, trimmed data as csv\n",
    "dataRatios= dataOut[['Metadata_Date','Math_Ratio', 'Metadata_Concentration','Metadata_Treatment','Metadata_Cotreatment','Metadata_CotreatmentConcentration']]\n",
    "# dataRatios= dataOut[['Metadata_Date','Math_Ratio', 'Metadata_Concentration','Metadata_Treatment']]\n",
    "\n",
    "dataRatios= dataRatios.sort_values(by = [metadataname])\n",
    "dataRatios.to_csv('G:/My Drive/Good Imaging Data/CSV/' + date +'.csv' )\n"
   ]
  },
  {
   "cell_type": "code",
   "execution_count": null,
   "id": "54254aa3",
   "metadata": {
    "scrolled": false
   },
   "outputs": [],
   "source": [
    "#get the mean and stdev of each group\n",
    "dataMean = dataOut.groupby(metadataname).mean()\n",
    "dataMedian = dataOut.groupby(metadataname).median()\n",
    "dataOut['Math_Ratio+1'] = dataOut.groupby(metadataname)['Math_Ratio'].apply(lambda x: x+1)\n",
    "dataOutGrouped= dataOut.groupby(metadataname)['Math_Ratio+1'].apply(sp.stats.gmean)\n",
    "dataOutGrouped = dataOutGrouped-1\n",
    "dataGmean = dataOutGrouped\n",
    "\n",
    "\n",
    "dataSD = dataOut.groupby(metadataname).std()\n",
    "\n",
    "\n",
    "#define the control group\n",
    "control = 'Control'\n",
    "# control = 0\n",
    "\n",
    "\n",
    "\n",
    "#define a 1-tailed 95% CI from the SD. 99% is 2.326 (95% is 1.96 for two tails and ~98% for 1 tailed, 1.645 is 1 tailed 95%)\n",
    "sD= dataSD.loc[control,'Math_Ratio']\n",
    "mean =dataMean.loc[control,'Math_Ratio'] \n",
    "cutoff = sD*1.96 + dataMean.loc[control,'Math_Ratio'] \n",
    "\n",
    "\n",
    "#counts the number of positive nuclei\n",
    "positive=dataOut.loc[dataOut['Math_Ratio'] > cutoff][metadataname].value_counts(sort = False, dropna = False).reindex(\n",
    "    dataOut[metadataname].unique(), fill_value=0)\n",
    "\n",
    "\n",
    "#what to normalize by?\n",
    "normval = 'NA'\n",
    "#get the median ratio\n",
    "intensity = dataMedian['Math_Ratio']\n",
    "normalizedintensity = intensity/intensity.loc[normval]\n",
    "\n",
    "\n",
    "#Mean Ratio\n",
    "intensityMean = dataMean['Math_Ratio']\n",
    "normalizedintensityMean = intensityMean/intensityMean.loc[normval]\n",
    "\n",
    "\n",
    "#% Positive\n",
    "percent = positive.div(groups.values)*100\n",
    "percent = percent.fillna(0)\n",
    "normalizedpercent = {}\n",
    "normalizedpercent = percent/percent.loc[normval]\n",
    "\n"
   ]
  },
  {
   "cell_type": "code",
   "execution_count": null,
   "id": "620be86f",
   "metadata": {
    "scrolled": false
   },
   "outputs": [],
   "source": [
    "#% Positive\n",
    "percentRepeats[date] = percent\n",
    "normalizedpercentRepeats[date] = normalizedpercent \n",
    "\n",
    "#mean\n",
    "intensityMeanRepeats[date] = intensityMean\n",
    "normalizedintensityMeanRepeats[date] = normalizedintensityMean\n",
    "\n"
   ]
  },
  {
   "cell_type": "code",
   "execution_count": null,
   "id": "43c396fe",
   "metadata": {
    "scrolled": true
   },
   "outputs": [],
   "source": [
    "#plot this data as a check\n",
    "sns.barplot(x=percent.keys(), y = percent[percent.keys()], order = axorder,palette = 'pastel')\n",
    "sns.set_style(\"ticks\")\n",
    "sns.despine()\n",
    "plt.xticks(rotation= '45')\n",
    "plt.ylabel('Percent Positive (%)')\n",
    "plt.title(date)\n",
    "plt.show()"
   ]
  },
  {
   "cell_type": "markdown",
   "id": "07f58254",
   "metadata": {},
   "source": [
    "# DO NOT RUN UNTIL YOU SET UP THE REPLICATES"
   ]
  },
  {
   "cell_type": "code",
   "execution_count": null,
   "id": "5fa46445",
   "metadata": {
    "scrolled": false
   },
   "outputs": [],
   "source": [
    "#don't run until you've set up the replicates\n",
    "\n",
    "\n",
    "# % Positive\n",
    "apl0=pd.DataFrame(percentRepeats)\n",
    "finalAPL0 = apl0.transpose()\n",
    "meltedapl0=finalAPL0.melt(ignore_index= False)\n",
    "meltedapl0 = meltedapl0.rename({\"variable\":metadataname, \"value\":\"Positive\"}, axis=\"columns\")\n",
    "\n",
    "apl1=pd.DataFrame(normalizedpercentRepeats)\n",
    "finalAPL1 = apl1.transpose()\n",
    "meltedapl1=finalAPL1.melt(ignore_index= False)\n",
    "meltedapl1 = meltedapl1.rename({\"variable\":metadataname, \"value\":\"normPositive\"}, axis=\"columns\")\n",
    "\n",
    "\n",
    "#mean\n",
    "apl4=pd.DataFrame(intensityMeanRepeats)\n",
    "finalAPL4 = apl4.transpose()\n",
    "meltedapl4=finalAPL4.melt(ignore_index= False)\n",
    "meltedapl4 = meltedapl4.rename({\"variable\":metadataname, \"value\":\"Mean\"}, axis=\"columns\")\n",
    "\n",
    "apl5=pd.DataFrame(normalizedintensityMeanRepeats)\n",
    "finalAPL5 = apl5.transpose()\n",
    "meltedapl5=finalAPL5.melt(ignore_index= False)\n",
    "meltedapl5 = meltedapl5.rename({\"variable\":metadataname, \"value\":\"normMean\"}, axis=\"columns\")\n",
    "\n",
    "\n"
   ]
  },
  {
   "cell_type": "code",
   "execution_count": null,
   "id": "a877153b",
   "metadata": {},
   "outputs": [],
   "source": [
    "savename = '' #what do you want to save the data as?"
   ]
  },
  {
   "cell_type": "code",
   "execution_count": null,
   "id": "3dbf0279",
   "metadata": {},
   "outputs": [],
   "source": [
    "#save meltedapl to a csv for plotting in Prism\n",
    "\n",
    "\n",
    "\n",
    "meltedapl0.to_csv('G:/My Drive/Good Imaging Data/CSV/Summary/Labeled Better/' + savename +' Percent Positive.csv' )\n",
    "meltedapl1.to_csv('G:/My Drive/Good Imaging Data/CSV/Summary/Labeled Better/' + savename+' normalized Perecent Positive' +'.csv' )\n",
    "\n",
    "meltedapl4.to_csv('G:/My Drive/Good Imaging Data/CSV/Summary/Labeled Better/' + savename +' Intensity Mean.csv' )\n",
    "meltedapl5.to_csv('G:/My Drive/Good Imaging Data/CSV/Summary/Labeled Better/' + savename+' normalized Intensity Mean' +'.csv' )\n",
    "\n"
   ]
  }
 ],
 "metadata": {
  "kernelspec": {
   "display_name": "Python 3 (ipykernel)",
   "language": "python",
   "name": "python3"
  },
  "language_info": {
   "codemirror_mode": {
    "name": "ipython",
    "version": 3
   },
   "file_extension": ".py",
   "mimetype": "text/x-python",
   "name": "python",
   "nbconvert_exporter": "python",
   "pygments_lexer": "ipython3",
   "version": "3.9.7"
  }
 },
 "nbformat": 4,
 "nbformat_minor": 5
}
